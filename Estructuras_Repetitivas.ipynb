{
 "cells": [
  {
   "attachments": {},
   "cell_type": "markdown",
   "metadata": {},
   "source": [
    "1. Realice un programa que lea 4 números y diga cuántos son pares y\n",
    "cuantos impares y devuelva la sumatoria de los pares."
   ]
  },
  {
   "cell_type": "code",
   "execution_count": 1,
   "metadata": {},
   "outputs": [
    {
     "name": "stdout",
     "output_type": "stream",
     "text": [
      "ingrese el número entero (1)\n",
      "12.0\n",
      "ingrese el número entero (2)\n",
      "7.0\n",
      "ingrese el número entero (3)\n",
      "22.0\n",
      "ingrese el número entero (4)\n",
      "13.0\n",
      "Números pares: 2\n",
      "Números impares:  2\n",
      "La sumatoria de los pares:  34.0\n"
     ]
    }
   ],
   "source": [
    "pares = 0\n",
    "impares = 0\n",
    "Suma_pares = 0\n",
    "\n",
    "for i in range(4):\n",
    "    print('ingrese el número entero ('+str(i+1)+')')\n",
    "    numero = int(input())\n",
    "    print(numero)\n",
    "    if numero % 2 == 0:\n",
    "        pares += 1\n",
    "        Suma_pares += numero\n",
    "    else:\n",
    "        impares += 1\n",
    "print('Números pares:',pares)\n",
    "print('Números impares: ',impares) \n",
    "print('La sumatoria de los pares: ',Suma_pares)\n"
   ]
  }
 ],
 "metadata": {
  "kernelspec": {
   "display_name": "Python 3",
   "language": "python",
   "name": "python3"
  },
  "language_info": {
   "codemirror_mode": {
    "name": "ipython",
    "version": 3
   },
   "file_extension": ".py",
   "mimetype": "text/x-python",
   "name": "python",
   "nbconvert_exporter": "python",
   "pygments_lexer": "ipython3",
   "version": "3.11.0"
  },
  "orig_nbformat": 4
 },
 "nbformat": 4,
 "nbformat_minor": 2
}
